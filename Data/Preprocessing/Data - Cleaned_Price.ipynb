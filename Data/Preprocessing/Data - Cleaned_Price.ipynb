{
  "nbformat": 4,
  "nbformat_minor": 0,
  "metadata": {
    "colab": {
      "provenance": []
    },
    "kernelspec": {
      "name": "python3",
      "display_name": "Python 3"
    },
    "language_info": {
      "name": "python"
    }
  },
  "cells": [
    {
      "cell_type": "markdown",
      "source": [
        "# Imports"
      ],
      "metadata": {
        "id": "2dbdh-lFAoeL"
      }
    },
    {
      "cell_type": "code",
      "source": [
        "import pandas as pd\n",
        "\n",
        "from google.colab import drive\n",
        "drive.mount('/content/drive')"
      ],
      "metadata": {
        "id": "1-M_hJR5bnz1"
      },
      "execution_count": null,
      "outputs": []
    },
    {
      "cell_type": "markdown",
      "source": [
        "# Data"
      ],
      "metadata": {
        "id": "Kbc19kciEttV"
      }
    },
    {
      "cell_type": "code",
      "source": [
        "# Load data\n",
        "path = \"/content/drive/MyDrive/Thesis/Data/Data/Freddie Mac Price Index.csv\"\n",
        "price = pd.read_csv(path, sep=';')\n",
        "\n",
        "price['Date'] = pd.to_datetime(price['Date'])"
      ],
      "metadata": {
        "id": "QPVN8LrnbZHj"
      },
      "execution_count": null,
      "outputs": []
    },
    {
      "cell_type": "markdown",
      "source": [
        "# Converting data"
      ],
      "metadata": {
        "id": "9EoGC1hVE4Zg"
      }
    },
    {
      "cell_type": "code",
      "source": [
        "# Converting \",\" to \".\"\n",
        "price['Index_NSA'] = price['Index_NSA'].str.replace(',', '.')\n",
        "price['Index_SA'] = price['Index_SA'].str.replace(',', '.')\n",
        "\n",
        "# Converting to floats\n",
        "price['Index_NSA'] = pd.to_numeric(price['Index_NSA'], errors='coerce')\n",
        "price['Index_SA'] = pd.to_numeric(price['Index_SA'], errors='coerce')\n",
        "\n",
        "# Dropping DC and Non inflation adjusted Index SA\n",
        "price = price.drop(price[price['GEO_Name'] == 'DC'].index)\n",
        "price.drop(columns=['Index_SA_Not_Inflation_Adj', 'Inflation Factor (2023-12-Price)'], inplace=True)"
      ],
      "metadata": {
        "id": "NIba9v5x-s5a"
      },
      "execution_count": null,
      "outputs": []
    },
    {
      "cell_type": "code",
      "source": [
        "price.to_csv(\"/content/drive/MyDrive/Thesis/Data/Data/Cleaned_Price.csv\", index=False)"
      ],
      "metadata": {
        "id": "7nBfTmuUTtGs"
      },
      "execution_count": null,
      "outputs": []
    },
    {
      "cell_type": "code",
      "source": [
        "# END"
      ],
      "metadata": {
        "id": "Zr04JL0zVu-k"
      },
      "execution_count": null,
      "outputs": []
    }
  ]
}