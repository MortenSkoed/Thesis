{
  "nbformat": 4,
  "nbformat_minor": 0,
  "metadata": {
    "colab": {
      "provenance": []
    },
    "kernelspec": {
      "name": "python3",
      "display_name": "Python 3"
    },
    "language_info": {
      "name": "python"
    }
  },
  "cells": [
    {
      "cell_type": "markdown",
      "source": [
        "# Import"
      ],
      "metadata": {
        "id": "I_-cyflAWPKD"
      }
    },
    {
      "cell_type": "code",
      "execution_count": null,
      "metadata": {
        "id": "HoEL7L2V6O94"
      },
      "outputs": [],
      "source": [
        "import numpy as np\n",
        "import pandas as pd\n",
        "from scipy.stats import norm\n",
        "import statsmodels.formula.api as smf\n",
        "import matplotlib.pyplot as plt\n",
        "from sklearn.metrics import mean_absolute_error, mean_squared_error\n",
        "\n",
        "from google.colab import drive\n",
        "drive.mount('/content/drive')"
      ]
    },
    {
      "cell_type": "markdown",
      "source": [
        "# Actuals for mean benchmark"
      ],
      "metadata": {
        "id": "BFAW_5Wm28Uj"
      }
    },
    {
      "cell_type": "code",
      "source": [
        "# Load data\n",
        "path1 = \"/content/drive/MyDrive/Thesis/Data/Merging CleanPrice & Features.csv\"\n",
        "price = pd.read_csv(path1, sep=',')\n",
        "\n",
        "columns = price.copy()\n",
        "price.set_index('Date', inplace=True)\n",
        "RawData = price.copy()"
      ],
      "metadata": {
        "id": "aNHvjiqi2-PW"
      },
      "execution_count": null,
      "outputs": []
    },
    {
      "cell_type": "markdown",
      "source": [
        "# Making Mean Benchmark"
      ],
      "metadata": {
        "id": "VL7Wm9J47JQA"
      }
    },
    {
      "cell_type": "code",
      "source": [
        "# Making rolling mean benchmark\n",
        "columns = ['GEO_Name', 'Log_Return_h1', 'Log_Return_h3', 'Log_Return_h6', 'Log_Return_h12']\n",
        "actual_data = RawData[columns].copy()\n",
        "mean_dfs = []\n",
        "\n",
        "for name, group in actual_data.groupby('GEO_Name'):\n",
        "    group['Mean_h1'] = group['Log_Return_h1'].rolling(window=330).mean().shift(1)\n",
        "    group['Mean_h3'] = group['Log_Return_h3'].rolling(window=330).mean().shift(3)\n",
        "    group['Mean_h6'] = group['Log_Return_h6'].rolling(window=330).mean().shift(6)\n",
        "    group['Mean_h12'] = group['Log_Return_h12'].rolling(window=330).mean().shift(12)\n",
        "    # Append the results to df\n",
        "    mean_dfs.append(group)\n",
        "\n",
        "actual_data = pd.concat(mean_dfs).reset_index()\n",
        "MeanBenchmark = actual_data[['Date', 'GEO_Name', 'Mean_h1', 'Mean_h3', 'Mean_h6', 'Mean_h12']].rename(columns={'GEO_Name': 'state', 'Mean_h1': 'h1', 'Mean_h3': 'h3', 'Mean_h6': 'h6', 'Mean_h12': 'h12'})"
      ],
      "metadata": {
        "id": "PVeyZ2Hd6Tqp"
      },
      "execution_count": null,
      "outputs": []
    },
    {
      "cell_type": "markdown",
      "source": [
        "# Load the data"
      ],
      "metadata": {
        "id": "qXCaTN8A6UVf"
      }
    },
    {
      "cell_type": "code",
      "source": [
        "# Loading predictions and corresponding actuals\n",
        "actuals = pd.read_csv(\"/content/drive/MyDrive/Thesis/Models/Predictions/AR(1)Actuals.csv\", sep=',')\n",
        "AR_1 = pd.read_csv(\"/content/drive/MyDrive/Thesis/Models/Predictions/AR(1)Predictions.csv\", sep=',')\n",
        "AR_optimal = pd.read_csv(\"/content/drive/MyDrive/Thesis/Models/Predictions/AR(Optimal)Predictions.csv\", sep=',')\n",
        "ARIMA = pd.read_csv(\"/content/drive/MyDrive/Thesis/Models/Predictions/ARIMAPredictions.csv\", sep=',')\n",
        "RandomForest = pd.read_csv(\"/content/drive/MyDrive/Thesis/Models/Predictions/RandomForestPredictions.csv\", sep=',')\n",
        "XGBoost = pd.read_csv(\"/content/drive/MyDrive/Thesis/Models/Predictions/XGBoostPredictions.csv\", sep=',')"
      ],
      "metadata": {
        "id": "fFDJyErE6Tvh"
      },
      "execution_count": null,
      "outputs": []
    },
    {
      "cell_type": "code",
      "source": [
        "# Renaming the date column to date\n",
        "actuals.rename(columns={'PredictionDate': 'Date'}, inplace=True)\n",
        "AR_1.rename(columns={'PredictionDate': 'Date'}, inplace=True)\n",
        "AR_optimal.rename(columns={'PredictionDate': 'Date'}, inplace=True)\n",
        "ARIMA.rename(columns={'PredictionDate': 'Date'}, inplace=True)\n",
        "\n",
        "RandomForest.rename(columns={'OriginalIndex': 'Date'}, inplace=True)\n",
        "XGBoost.rename(columns={'OriginalIndex': 'Date'}, inplace=True)\n",
        "\n",
        "RandomForest.rename(columns={'State': 'state'}, inplace=True)\n",
        "XGBoost.rename(columns={'State': 'state'}, inplace=True)"
      ],
      "metadata": {
        "id": "QKZAZu0K6Ylc"
      },
      "execution_count": null,
      "outputs": []
    },
    {
      "cell_type": "code",
      "source": [
        "# Making Combination forecasts\n",
        "combined_df1 = pd.concat([AR_optimal, ARIMA, RandomForest, XGBoost], ignore_index=True)\n",
        "averaged_predictions1 = combined_df1.groupby(['Date', 'state']).mean().reset_index()\n",
        "Combination_AR_1 = averaged_predictions1.sort_values(by=['state', 'Date']).reset_index(drop=True)"
      ],
      "metadata": {
        "id": "T_sDSN19vCZz"
      },
      "execution_count": null,
      "outputs": []
    },
    {
      "cell_type": "code",
      "source": [
        "# Removing 'USA' from the predictions and actuals\n",
        "actuals = actuals[actuals['state'] != 'USA']\n",
        "AR_1 = AR_1[AR_1['state'] != 'USA']\n",
        "AR_optimal = AR_optimal[AR_optimal['state'] != 'USA']\n",
        "ARIMA = ARIMA[ARIMA['state'] != 'USA']\n",
        "RandomForest = RandomForest[RandomForest['state'] != 'USA']\n",
        "XGBoost = XGBoost[XGBoost['state'] != 'USA']\n",
        "Combination_AR_1 = Combination_AR_1[Combination_AR_1['state'] != 'USA']\n",
        "MeanBenchmark = MeanBenchmark[MeanBenchmark['state'] != 'USA']"
      ],
      "metadata": {
        "id": "Fra8a1U9YGr8"
      },
      "execution_count": null,
      "outputs": []
    },
    {
      "cell_type": "code",
      "source": [
        "# Setting the dataframes to datetime\n",
        "actuals['Date'] = pd.to_datetime(actuals['Date'])\n",
        "AR_1['Date'] = pd.to_datetime(AR_1['Date'])\n",
        "AR_optimal['Date'] = pd.to_datetime(AR_optimal['Date'])\n",
        "ARIMA['Date'] = pd.to_datetime(ARIMA['Date'])\n",
        "RandomForest['Date'] = pd.to_datetime(RandomForest['Date'])\n",
        "XGBoost['Date'] = pd.to_datetime(XGBoost['Date'])\n",
        "Combination_AR_1['Date'] = pd.to_datetime(Combination_AR_1['Date'])\n",
        "MeanBenchmark['Date'] = pd.to_datetime(MeanBenchmark['Date'])"
      ],
      "metadata": {
        "id": "2lQ0iUxw6Y3N"
      },
      "execution_count": null,
      "outputs": []
    },
    {
      "cell_type": "code",
      "source": [
        "# Only indlucing excl. crisis\n",
        "actuals = actuals[(actuals['Date'] >= pd.Timestamp('2011-01-01')) & (actuals['Date'] <= pd.Timestamp('2019-12-01'))].reset_index(drop=True)\n",
        "AR_1 = AR_1[(AR_1['Date'] >= pd.Timestamp('2011-01-01')) & (AR_1['Date'] <= pd.Timestamp('2019-12-01'))].reset_index(drop=True)\n",
        "AR_optimal = AR_optimal[(AR_optimal['Date'] >= pd.Timestamp('2011-01-01')) & (AR_optimal['Date'] <= pd.Timestamp('2019-12-01'))].reset_index(drop=True)\n",
        "ARIMA = ARIMA[(ARIMA['Date'] >= pd.Timestamp('2011-01-01')) & (ARIMA['Date'] <= pd.Timestamp('2019-12-01'))].reset_index(drop=True)\n",
        "XGBoost = XGBoost[(XGBoost['Date'] >= pd.Timestamp('2011-01-01')) & (XGBoost['Date'] <= pd.Timestamp('2019-12-01'))].reset_index(drop=True)\n",
        "RandomForest = RandomForest[(RandomForest['Date'] >= pd.Timestamp('2011-01-01')) & (RandomForest['Date'] <= pd.Timestamp('2019-12-01'))].reset_index(drop=True)\n",
        "Combination_AR_1 = Combination_AR_1[(Combination_AR_1['Date'] >= pd.Timestamp('2011-01-01')) & (Combination_AR_1['Date'] <= pd.Timestamp('2019-12-01'))].reset_index(drop=True)\n",
        "MeanBenchmark = MeanBenchmark[(MeanBenchmark['Date'] >= pd.Timestamp('2011-01-01')) & (MeanBenchmark['Date'] <= pd.Timestamp('2019-12-01'))].reset_index(drop=True)"
      ],
      "metadata": {
        "id": "2LXQPv7MmIK8"
      },
      "execution_count": null,
      "outputs": []
    },
    {
      "cell_type": "markdown",
      "source": [
        "# MSE and MAE across states"
      ],
      "metadata": {
        "id": "QrsVbkq89-w2"
      }
    },
    {
      "cell_type": "markdown",
      "source": [
        "## MSE"
      ],
      "metadata": {
        "id": "wHU4E3Jo-4KH"
      }
    },
    {
      "cell_type": "code",
      "source": [
        "# List of models used in making MSE over time\n",
        "models = {\n",
        "    'Benchmark': MeanBenchmark,\n",
        "    'AR_1': AR_1,\n",
        "    'XGBoost': XGBoost,\n",
        "    'RandomForest': RandomForest,\n",
        "    'AR_optimal': AR_optimal,\n",
        "    'ARIMA': ARIMA,\n",
        "    'Combination_AR_1': Combination_AR_1\n",
        "}"
      ],
      "metadata": {
        "id": "yHWErxsz-E5r"
      },
      "execution_count": null,
      "outputs": []
    },
    {
      "cell_type": "code",
      "source": [
        "mse_by_state = {}\n",
        "\n",
        "states = actuals['state'].unique()\n",
        "horizons = ['h1', 'h3', 'h6', 'h12']\n",
        "\n",
        "for state in states:\n",
        "    state_mse = {}\n",
        "    for model_name, df_model in models.items():\n",
        "        mse_per_horizon = {}\n",
        "        for horizon in horizons:\n",
        "            true_values = actuals[actuals['state'] == state][horizon]\n",
        "            predictions = df_model[df_model['state'] == state][horizon]\n",
        "\n",
        "            # Calculating MSE\n",
        "            mse_per_horizon[horizon] = mean_squared_error(true_values, predictions)\n",
        "\n",
        "        # Appending to df's\n",
        "        state_mse[model_name] = mse_per_horizon\n",
        "    mse_by_state[state] = state_mse"
      ],
      "metadata": {
        "id": "BtQGhz_I-Nmu"
      },
      "execution_count": null,
      "outputs": []
    },
    {
      "cell_type": "code",
      "source": [
        "# Creating df's for MSE\n",
        "rows = []\n",
        "for state, models in mse_by_state.items():\n",
        "    for model, horizons in models.items():\n",
        "        for horizon, MSE in horizons.items():\n",
        "            rows.append({\n",
        "                'State': state,\n",
        "                'Model': model,\n",
        "                'Horizon': horizon,\n",
        "                'MSE': MSE\n",
        "            })\n",
        "\n",
        "mse_state = pd.DataFrame(rows)\n",
        "mse_state.reset_index(drop=True)"
      ],
      "metadata": {
        "id": "9OIEfOdG-PwX",
        "colab": {
          "base_uri": "https://localhost:8080/",
          "height": 423
        },
        "outputId": "38964840-ccfd-45fa-e501-07c75b16cf85"
      },
      "execution_count": null,
      "outputs": [
        {
          "output_type": "execute_result",
          "data": {
            "text/plain": [
              "     State             Model Horizon       MSE\n",
              "0       AK         Benchmark      h1  0.000009\n",
              "1       AK         Benchmark      h3  0.000056\n",
              "2       AK         Benchmark      h6  0.000170\n",
              "3       AK         Benchmark     h12  0.000485\n",
              "4       AK              AR_1      h1  0.000005\n",
              "...    ...               ...     ...       ...\n",
              "1395    WY             ARIMA     h12  0.000431\n",
              "1396    WY  Combination_AR_1      h1  0.000006\n",
              "1397    WY  Combination_AR_1      h3  0.000055\n",
              "1398    WY  Combination_AR_1      h6  0.000114\n",
              "1399    WY  Combination_AR_1     h12  0.000312\n",
              "\n",
              "[1400 rows x 4 columns]"
            ],
            "text/html": [
              "\n",
              "  <div id=\"df-de7ee1d3-11c5-4923-9d82-9487a3bc4239\" class=\"colab-df-container\">\n",
              "    <div>\n",
              "<style scoped>\n",
              "    .dataframe tbody tr th:only-of-type {\n",
              "        vertical-align: middle;\n",
              "    }\n",
              "\n",
              "    .dataframe tbody tr th {\n",
              "        vertical-align: top;\n",
              "    }\n",
              "\n",
              "    .dataframe thead th {\n",
              "        text-align: right;\n",
              "    }\n",
              "</style>\n",
              "<table border=\"1\" class=\"dataframe\">\n",
              "  <thead>\n",
              "    <tr style=\"text-align: right;\">\n",
              "      <th></th>\n",
              "      <th>State</th>\n",
              "      <th>Model</th>\n",
              "      <th>Horizon</th>\n",
              "      <th>MSE</th>\n",
              "    </tr>\n",
              "  </thead>\n",
              "  <tbody>\n",
              "    <tr>\n",
              "      <th>0</th>\n",
              "      <td>AK</td>\n",
              "      <td>Benchmark</td>\n",
              "      <td>h1</td>\n",
              "      <td>0.000009</td>\n",
              "    </tr>\n",
              "    <tr>\n",
              "      <th>1</th>\n",
              "      <td>AK</td>\n",
              "      <td>Benchmark</td>\n",
              "      <td>h3</td>\n",
              "      <td>0.000056</td>\n",
              "    </tr>\n",
              "    <tr>\n",
              "      <th>2</th>\n",
              "      <td>AK</td>\n",
              "      <td>Benchmark</td>\n",
              "      <td>h6</td>\n",
              "      <td>0.000170</td>\n",
              "    </tr>\n",
              "    <tr>\n",
              "      <th>3</th>\n",
              "      <td>AK</td>\n",
              "      <td>Benchmark</td>\n",
              "      <td>h12</td>\n",
              "      <td>0.000485</td>\n",
              "    </tr>\n",
              "    <tr>\n",
              "      <th>4</th>\n",
              "      <td>AK</td>\n",
              "      <td>AR_1</td>\n",
              "      <td>h1</td>\n",
              "      <td>0.000005</td>\n",
              "    </tr>\n",
              "    <tr>\n",
              "      <th>...</th>\n",
              "      <td>...</td>\n",
              "      <td>...</td>\n",
              "      <td>...</td>\n",
              "      <td>...</td>\n",
              "    </tr>\n",
              "    <tr>\n",
              "      <th>1395</th>\n",
              "      <td>WY</td>\n",
              "      <td>ARIMA</td>\n",
              "      <td>h12</td>\n",
              "      <td>0.000431</td>\n",
              "    </tr>\n",
              "    <tr>\n",
              "      <th>1396</th>\n",
              "      <td>WY</td>\n",
              "      <td>Combination_AR_1</td>\n",
              "      <td>h1</td>\n",
              "      <td>0.000006</td>\n",
              "    </tr>\n",
              "    <tr>\n",
              "      <th>1397</th>\n",
              "      <td>WY</td>\n",
              "      <td>Combination_AR_1</td>\n",
              "      <td>h3</td>\n",
              "      <td>0.000055</td>\n",
              "    </tr>\n",
              "    <tr>\n",
              "      <th>1398</th>\n",
              "      <td>WY</td>\n",
              "      <td>Combination_AR_1</td>\n",
              "      <td>h6</td>\n",
              "      <td>0.000114</td>\n",
              "    </tr>\n",
              "    <tr>\n",
              "      <th>1399</th>\n",
              "      <td>WY</td>\n",
              "      <td>Combination_AR_1</td>\n",
              "      <td>h12</td>\n",
              "      <td>0.000312</td>\n",
              "    </tr>\n",
              "  </tbody>\n",
              "</table>\n",
              "<p>1400 rows × 4 columns</p>\n",
              "</div>\n",
              "    <div class=\"colab-df-buttons\">\n",
              "\n",
              "  <div class=\"colab-df-container\">\n",
              "    <button class=\"colab-df-convert\" onclick=\"convertToInteractive('df-de7ee1d3-11c5-4923-9d82-9487a3bc4239')\"\n",
              "            title=\"Convert this dataframe to an interactive table.\"\n",
              "            style=\"display:none;\">\n",
              "\n",
              "  <svg xmlns=\"http://www.w3.org/2000/svg\" height=\"24px\" viewBox=\"0 -960 960 960\">\n",
              "    <path d=\"M120-120v-720h720v720H120Zm60-500h600v-160H180v160Zm220 220h160v-160H400v160Zm0 220h160v-160H400v160ZM180-400h160v-160H180v160Zm440 0h160v-160H620v160ZM180-180h160v-160H180v160Zm440 0h160v-160H620v160Z\"/>\n",
              "  </svg>\n",
              "    </button>\n",
              "\n",
              "  <style>\n",
              "    .colab-df-container {\n",
              "      display:flex;\n",
              "      gap: 12px;\n",
              "    }\n",
              "\n",
              "    .colab-df-convert {\n",
              "      background-color: #E8F0FE;\n",
              "      border: none;\n",
              "      border-radius: 50%;\n",
              "      cursor: pointer;\n",
              "      display: none;\n",
              "      fill: #1967D2;\n",
              "      height: 32px;\n",
              "      padding: 0 0 0 0;\n",
              "      width: 32px;\n",
              "    }\n",
              "\n",
              "    .colab-df-convert:hover {\n",
              "      background-color: #E2EBFA;\n",
              "      box-shadow: 0px 1px 2px rgba(60, 64, 67, 0.3), 0px 1px 3px 1px rgba(60, 64, 67, 0.15);\n",
              "      fill: #174EA6;\n",
              "    }\n",
              "\n",
              "    .colab-df-buttons div {\n",
              "      margin-bottom: 4px;\n",
              "    }\n",
              "\n",
              "    [theme=dark] .colab-df-convert {\n",
              "      background-color: #3B4455;\n",
              "      fill: #D2E3FC;\n",
              "    }\n",
              "\n",
              "    [theme=dark] .colab-df-convert:hover {\n",
              "      background-color: #434B5C;\n",
              "      box-shadow: 0px 1px 3px 1px rgba(0, 0, 0, 0.15);\n",
              "      filter: drop-shadow(0px 1px 2px rgba(0, 0, 0, 0.3));\n",
              "      fill: #FFFFFF;\n",
              "    }\n",
              "  </style>\n",
              "\n",
              "    <script>\n",
              "      const buttonEl =\n",
              "        document.querySelector('#df-de7ee1d3-11c5-4923-9d82-9487a3bc4239 button.colab-df-convert');\n",
              "      buttonEl.style.display =\n",
              "        google.colab.kernel.accessAllowed ? 'block' : 'none';\n",
              "\n",
              "      async function convertToInteractive(key) {\n",
              "        const element = document.querySelector('#df-de7ee1d3-11c5-4923-9d82-9487a3bc4239');\n",
              "        const dataTable =\n",
              "          await google.colab.kernel.invokeFunction('convertToInteractive',\n",
              "                                                    [key], {});\n",
              "        if (!dataTable) return;\n",
              "\n",
              "        const docLinkHtml = 'Like what you see? Visit the ' +\n",
              "          '<a target=\"_blank\" href=https://colab.research.google.com/notebooks/data_table.ipynb>data table notebook</a>'\n",
              "          + ' to learn more about interactive tables.';\n",
              "        element.innerHTML = '';\n",
              "        dataTable['output_type'] = 'display_data';\n",
              "        await google.colab.output.renderOutput(dataTable, element);\n",
              "        const docLink = document.createElement('div');\n",
              "        docLink.innerHTML = docLinkHtml;\n",
              "        element.appendChild(docLink);\n",
              "      }\n",
              "    </script>\n",
              "  </div>\n",
              "\n",
              "\n",
              "<div id=\"df-91bec836-1871-42a4-8bd1-f1cd9418b2b7\">\n",
              "  <button class=\"colab-df-quickchart\" onclick=\"quickchart('df-91bec836-1871-42a4-8bd1-f1cd9418b2b7')\"\n",
              "            title=\"Suggest charts\"\n",
              "            style=\"display:none;\">\n",
              "\n",
              "<svg xmlns=\"http://www.w3.org/2000/svg\" height=\"24px\"viewBox=\"0 0 24 24\"\n",
              "     width=\"24px\">\n",
              "    <g>\n",
              "        <path d=\"M19 3H5c-1.1 0-2 .9-2 2v14c0 1.1.9 2 2 2h14c1.1 0 2-.9 2-2V5c0-1.1-.9-2-2-2zM9 17H7v-7h2v7zm4 0h-2V7h2v10zm4 0h-2v-4h2v4z\"/>\n",
              "    </g>\n",
              "</svg>\n",
              "  </button>\n",
              "\n",
              "<style>\n",
              "  .colab-df-quickchart {\n",
              "      --bg-color: #E8F0FE;\n",
              "      --fill-color: #1967D2;\n",
              "      --hover-bg-color: #E2EBFA;\n",
              "      --hover-fill-color: #174EA6;\n",
              "      --disabled-fill-color: #AAA;\n",
              "      --disabled-bg-color: #DDD;\n",
              "  }\n",
              "\n",
              "  [theme=dark] .colab-df-quickchart {\n",
              "      --bg-color: #3B4455;\n",
              "      --fill-color: #D2E3FC;\n",
              "      --hover-bg-color: #434B5C;\n",
              "      --hover-fill-color: #FFFFFF;\n",
              "      --disabled-bg-color: #3B4455;\n",
              "      --disabled-fill-color: #666;\n",
              "  }\n",
              "\n",
              "  .colab-df-quickchart {\n",
              "    background-color: var(--bg-color);\n",
              "    border: none;\n",
              "    border-radius: 50%;\n",
              "    cursor: pointer;\n",
              "    display: none;\n",
              "    fill: var(--fill-color);\n",
              "    height: 32px;\n",
              "    padding: 0;\n",
              "    width: 32px;\n",
              "  }\n",
              "\n",
              "  .colab-df-quickchart:hover {\n",
              "    background-color: var(--hover-bg-color);\n",
              "    box-shadow: 0 1px 2px rgba(60, 64, 67, 0.3), 0 1px 3px 1px rgba(60, 64, 67, 0.15);\n",
              "    fill: var(--button-hover-fill-color);\n",
              "  }\n",
              "\n",
              "  .colab-df-quickchart-complete:disabled,\n",
              "  .colab-df-quickchart-complete:disabled:hover {\n",
              "    background-color: var(--disabled-bg-color);\n",
              "    fill: var(--disabled-fill-color);\n",
              "    box-shadow: none;\n",
              "  }\n",
              "\n",
              "  .colab-df-spinner {\n",
              "    border: 2px solid var(--fill-color);\n",
              "    border-color: transparent;\n",
              "    border-bottom-color: var(--fill-color);\n",
              "    animation:\n",
              "      spin 1s steps(1) infinite;\n",
              "  }\n",
              "\n",
              "  @keyframes spin {\n",
              "    0% {\n",
              "      border-color: transparent;\n",
              "      border-bottom-color: var(--fill-color);\n",
              "      border-left-color: var(--fill-color);\n",
              "    }\n",
              "    20% {\n",
              "      border-color: transparent;\n",
              "      border-left-color: var(--fill-color);\n",
              "      border-top-color: var(--fill-color);\n",
              "    }\n",
              "    30% {\n",
              "      border-color: transparent;\n",
              "      border-left-color: var(--fill-color);\n",
              "      border-top-color: var(--fill-color);\n",
              "      border-right-color: var(--fill-color);\n",
              "    }\n",
              "    40% {\n",
              "      border-color: transparent;\n",
              "      border-right-color: var(--fill-color);\n",
              "      border-top-color: var(--fill-color);\n",
              "    }\n",
              "    60% {\n",
              "      border-color: transparent;\n",
              "      border-right-color: var(--fill-color);\n",
              "    }\n",
              "    80% {\n",
              "      border-color: transparent;\n",
              "      border-right-color: var(--fill-color);\n",
              "      border-bottom-color: var(--fill-color);\n",
              "    }\n",
              "    90% {\n",
              "      border-color: transparent;\n",
              "      border-bottom-color: var(--fill-color);\n",
              "    }\n",
              "  }\n",
              "</style>\n",
              "\n",
              "  <script>\n",
              "    async function quickchart(key) {\n",
              "      const quickchartButtonEl =\n",
              "        document.querySelector('#' + key + ' button');\n",
              "      quickchartButtonEl.disabled = true;  // To prevent multiple clicks.\n",
              "      quickchartButtonEl.classList.add('colab-df-spinner');\n",
              "      try {\n",
              "        const charts = await google.colab.kernel.invokeFunction(\n",
              "            'suggestCharts', [key], {});\n",
              "      } catch (error) {\n",
              "        console.error('Error during call to suggestCharts:', error);\n",
              "      }\n",
              "      quickchartButtonEl.classList.remove('colab-df-spinner');\n",
              "      quickchartButtonEl.classList.add('colab-df-quickchart-complete');\n",
              "    }\n",
              "    (() => {\n",
              "      let quickchartButtonEl =\n",
              "        document.querySelector('#df-91bec836-1871-42a4-8bd1-f1cd9418b2b7 button');\n",
              "      quickchartButtonEl.style.display =\n",
              "        google.colab.kernel.accessAllowed ? 'block' : 'none';\n",
              "    })();\n",
              "  </script>\n",
              "</div>\n",
              "    </div>\n",
              "  </div>\n"
            ],
            "application/vnd.google.colaboratory.intrinsic+json": {
              "type": "dataframe",
              "summary": "{\n  \"name\": \"mse_state\",\n  \"rows\": 1400,\n  \"fields\": [\n    {\n      \"column\": \"State\",\n      \"properties\": {\n        \"dtype\": \"category\",\n        \"num_unique_values\": 50,\n        \"samples\": [\n          \"IL\",\n          \"SC\",\n          \"NJ\"\n        ],\n        \"semantic_type\": \"\",\n        \"description\": \"\"\n      }\n    },\n    {\n      \"column\": \"Model\",\n      \"properties\": {\n        \"dtype\": \"category\",\n        \"num_unique_values\": 7,\n        \"samples\": [\n          \"Benchmark\",\n          \"AR_1\",\n          \"ARIMA\"\n        ],\n        \"semantic_type\": \"\",\n        \"description\": \"\"\n      }\n    },\n    {\n      \"column\": \"Horizon\",\n      \"properties\": {\n        \"dtype\": \"category\",\n        \"num_unique_values\": 4,\n        \"samples\": [\n          \"h3\",\n          \"h12\",\n          \"h1\"\n        ],\n        \"semantic_type\": \"\",\n        \"description\": \"\"\n      }\n    },\n    {\n      \"column\": \"MSE\",\n      \"properties\": {\n        \"dtype\": \"number\",\n        \"std\": 0.0011081423423921091,\n        \"min\": 4.580053190682556e-06,\n        \"max\": 0.013463387057368518,\n        \"num_unique_values\": 1368,\n        \"samples\": [\n          0.00013305320868450688,\n          0.0016821783858753507,\n          0.0002457232963419097\n        ],\n        \"semantic_type\": \"\",\n        \"description\": \"\"\n      }\n    }\n  ]\n}"
            }
          },
          "metadata": {},
          "execution_count": 13
        }
      ]
    },
    {
      "cell_type": "code",
      "source": [
        "mse_state.to_csv(\"/content/drive/MyDrive/Thesis/Performance Calculations/MSE_States.csv\")\n",
        "mse_state.to_excel(\"/content/drive/MyDrive/Thesis/Performance Calculations/MSE_States.xlsx\")"
      ],
      "metadata": {
        "id": "-Wgs0gA3-Skr"
      },
      "execution_count": null,
      "outputs": []
    },
    {
      "cell_type": "markdown",
      "source": [
        "## MAE"
      ],
      "metadata": {
        "id": "_4APbrLO-YUX"
      }
    },
    {
      "cell_type": "code",
      "source": [
        "# List of models used in making MSE over time\n",
        "models = {\n",
        "    'Benchmark': MeanBenchmark,\n",
        "    'AR_1': AR_1,\n",
        "    'XGBoost': XGBoost,\n",
        "    'RandomForest': RandomForest,\n",
        "    'AR_optimal': AR_optimal,\n",
        "    'ARIMA': ARIMA,\n",
        "    'Combination_AR_1': Combination_AR_1\n",
        "}"
      ],
      "metadata": {
        "id": "SzpSSUEd-ZyS"
      },
      "execution_count": null,
      "outputs": []
    },
    {
      "cell_type": "code",
      "source": [
        "mae_by_state = {}\n",
        "states = actuals['state'].unique()\n",
        "horizons = ['h1', 'h3', 'h6', 'h12']\n",
        "\n",
        "for state in states:\n",
        "    state_mae = {}\n",
        "    for model_name, df_model in models.items():\n",
        "        mae_per_horizon = {}\n",
        "        for horizon in horizons:\n",
        "            true_values = actuals[actuals['state'] == state][horizon]\n",
        "            predictions = df_model[df_model['state'] == state][horizon]\n",
        "\n",
        "            # Calculating MAE\n",
        "            mae_per_horizon[horizon] = mean_absolute_error(true_values, predictions)\n",
        "\n",
        "        state_mae[model_name] = mae_per_horizon\n",
        "    mae_by_state[state] = state_mae"
      ],
      "metadata": {
        "id": "SGIIBFXE-el3"
      },
      "execution_count": null,
      "outputs": []
    },
    {
      "cell_type": "code",
      "source": [
        "# Creating df's for MAE\n",
        "rows = []\n",
        "for state, models in mae_by_state.items():\n",
        "    for model, horizons in models.items():\n",
        "        for horizon, MAE in horizons.items():\n",
        "            rows.append({\n",
        "                'State': state,\n",
        "                'Model': model,\n",
        "                'Horizon': horizon,\n",
        "                'MAE': MAE\n",
        "            })\n",
        "\n",
        "mae_state = pd.DataFrame(rows)\n",
        "mae_state.reset_index(drop=True)"
      ],
      "metadata": {
        "id": "wKTRFYKb-gUe"
      },
      "execution_count": null,
      "outputs": []
    },
    {
      "cell_type": "code",
      "source": [
        "mae_state.to_csv(\"/content/drive/MyDrive/Thesis/Performance Calculations/MAE_States.csv\")\n",
        "mae_state.to_excel(\"/content/drive/MyDrive/Thesis/Performance Calculations/MAE_States.xlsx\")"
      ],
      "metadata": {
        "id": "IJyH0HnJ-o5Q"
      },
      "execution_count": null,
      "outputs": []
    },
    {
      "cell_type": "markdown",
      "source": [
        "# Ratio model comparisons (MEAN)"
      ],
      "metadata": {
        "id": "Am7nv4ET6hYC"
      }
    },
    {
      "cell_type": "markdown",
      "source": [
        "## MSE Ratios"
      ],
      "metadata": {
        "id": "HPQL-LJYW0Vh"
      }
    },
    {
      "cell_type": "code",
      "source": [
        "# List of model dataframes and their identifiers\n",
        "models = {\n",
        "    'Benchmark': MeanBenchmark,\n",
        "    'AR_1': AR_1,\n",
        "    'XGBoost': XGBoost,\n",
        "    'RandomForest': RandomForest,\n",
        "    'AR_optimal': AR_optimal,\n",
        "    'ARIMA': ARIMA,\n",
        "    'Combination': Combination_AR_1\n",
        "}"
      ],
      "metadata": {
        "id": "RUFkPgn86bun"
      },
      "execution_count": null,
      "outputs": []
    },
    {
      "cell_type": "code",
      "source": [
        "mse_by_state = {}\n",
        "\n",
        "states = actuals['state'].unique()\n",
        "horizons = ['h1', 'h3', 'h6', 'h12']\n",
        "\n",
        "for state in states:\n",
        "    state_mse = {}\n",
        "    for model_name, df_model in models.items():\n",
        "        mse_per_horizon = {}\n",
        "        for horizon in horizons:\n",
        "            true_values = actuals[actuals['state'] == state][horizon]\n",
        "            predictions = df_model[df_model['state'] == state][horizon]\n",
        "\n",
        "            # Calculating MSE\n",
        "            mse_per_horizon[horizon] = mean_squared_error(true_values, predictions)\n",
        "\n",
        "        # Appending to df's\n",
        "        state_mse[model_name] = mse_per_horizon\n",
        "    mse_by_state[state] = state_mse"
      ],
      "metadata": {
        "id": "zerKL-QGQFGs"
      },
      "execution_count": null,
      "outputs": []
    },
    {
      "cell_type": "code",
      "source": [
        "# Creating Ratios compared to benchmark\n",
        "mse_ratios_by_state = {}\n",
        "\n",
        "for state, mse_data in mse_by_state.items():\n",
        "    state_ratios = {}\n",
        "    benchmark_mse = mse_data['Benchmark']\n",
        "    for model, mses in mse_data.items():\n",
        "        ratios = {horizon: mse / benchmark_mse[horizon] if benchmark_mse[horizon] != 0 else None for horizon, mse in mses.items()}\n",
        "        state_ratios[model] = ratios\n",
        "    mse_ratios_by_state[state] = state_ratios"
      ],
      "metadata": {
        "id": "RIhOCg3PRIL0"
      },
      "execution_count": null,
      "outputs": []
    },
    {
      "cell_type": "code",
      "source": [
        "# Appending data to df's skipping the benchmark\n",
        "data = []\n",
        "for state, models in mse_ratios_by_state.items():\n",
        "    for model, ratios in models.items():\n",
        "        if model != 'Benchmark':\n",
        "            for horizon, ratio in ratios.items():\n",
        "                data.append((state, model, horizon, ratio))\n",
        "\n",
        "df_ratios = pd.DataFrame(data, columns=['State', 'Model', 'Horizon', 'MSE Ratio']).sort_values(by=['State', 'Horizon'])\n",
        "df_ratios.reset_index(drop=True)"
      ],
      "metadata": {
        "id": "k7duTMDyRK4c"
      },
      "execution_count": null,
      "outputs": []
    },
    {
      "cell_type": "code",
      "source": [
        "df_ratios.to_csv(\"/content/drive/MyDrive/Thesis/Performance Calculations/MSERatiosAllHorizonsMEANBenchmark.csv\")\n",
        "df_ratios.to_excel(\"/content/drive/MyDrive/Thesis/Performance Calculations/MSERatiosAllHorizonsMEANBenchmark.xlsx\")"
      ],
      "metadata": {
        "id": "HU0-SB-6RNIg"
      },
      "execution_count": null,
      "outputs": []
    },
    {
      "cell_type": "markdown",
      "source": [
        "## MAE Ratios"
      ],
      "metadata": {
        "id": "VS6P4NlnW3S7"
      }
    },
    {
      "cell_type": "code",
      "source": [
        "# List of model dataframes and their identifiers\n",
        "models = {\n",
        "    'Benchmark': MeanBenchmark,\n",
        "    'AR_1': AR_1,\n",
        "    'XGBoost': XGBoost,\n",
        "    'RandomForest': RandomForest,\n",
        "    'AR_optimal': AR_optimal,\n",
        "    'ARIMA': ARIMA,\n",
        "    'Combination': Combination_AR_1\n",
        "}"
      ],
      "metadata": {
        "id": "dxph4sydY89s"
      },
      "execution_count": null,
      "outputs": []
    },
    {
      "cell_type": "code",
      "source": [
        "mae_by_state = {}\n",
        "states = actuals['state'].unique()\n",
        "horizons = ['h1', 'h3', 'h6', 'h12']\n",
        "\n",
        "for state in states:\n",
        "    state_mae = {}\n",
        "    for model_name, df_model in models.items():\n",
        "        mae_per_horizon = {}\n",
        "        for horizon in horizons:\n",
        "            true_values = actuals[actuals['state'] == state][horizon]\n",
        "            predictions = df_model[df_model['state'] == state][horizon]\n",
        "\n",
        "            # Calculating MAE\n",
        "            mae_per_horizon[horizon] = mean_absolute_error(true_values, predictions)\n",
        "\n",
        "        state_mae[model_name] = mae_per_horizon\n",
        "    mae_by_state[state] = state_mae"
      ],
      "metadata": {
        "id": "cMyTxVYRW6cV"
      },
      "execution_count": null,
      "outputs": []
    },
    {
      "cell_type": "code",
      "source": [
        "# Creating Ratios compared to benchmark\n",
        "mae_ratios_by_state = {}\n",
        "\n",
        "for state, mae_data in mae_by_state.items():\n",
        "    state_ratios = {}\n",
        "    benchmark_mae = mae_data['Benchmark']\n",
        "    for model, maes in mae_data.items():\n",
        "        ratios = {horizon: mae / benchmark_mae[horizon] if benchmark_mae[horizon] != 0 else None for horizon, mae in maes.items()}\n",
        "        state_ratios[model] = ratios\n",
        "    mae_ratios_by_state[state] = state_ratios"
      ],
      "metadata": {
        "id": "X8bVRwrdXF5n"
      },
      "execution_count": null,
      "outputs": []
    },
    {
      "cell_type": "code",
      "source": [
        "# Appending data to df's skipping the benchmark\n",
        "data = []\n",
        "for state, models in mae_ratios_by_state.items():\n",
        "    for model, ratios in models.items():\n",
        "        if model != 'Benchmark':\n",
        "            for horizon, ratio in ratios.items():\n",
        "                data.append((state, model, horizon, ratio))\n",
        "\n",
        "df_ratios = pd.DataFrame(data, columns=['State', 'Model', 'Horizon', 'mae Ratio']).sort_values(by=['State', 'Horizon'])\n",
        "df_ratios.reset_index(drop=True)"
      ],
      "metadata": {
        "id": "EKtKBMruXJA_"
      },
      "execution_count": null,
      "outputs": []
    },
    {
      "cell_type": "code",
      "source": [
        "df_ratios.to_csv(\"/content/drive/MyDrive/Thesis/Performance Calculations/MAERatiosAllHorizonsMEANBenchmark.csv\")\n",
        "df_ratios.to_excel(\"/content/drive/MyDrive/Thesis/Performance Calculations/MAERatiosAllHorizonsMEANBenchmark.xlsx\")"
      ],
      "metadata": {
        "id": "MbVaA1E6XQCM"
      },
      "execution_count": null,
      "outputs": []
    },
    {
      "cell_type": "markdown",
      "source": [
        "# Ratio model comparisons (AR_1)"
      ],
      "metadata": {
        "id": "aU8aBOah8AiR"
      }
    },
    {
      "cell_type": "markdown",
      "source": [
        "## MSE Ratios"
      ],
      "metadata": {
        "id": "LGxdLTLfXxUw"
      }
    },
    {
      "cell_type": "code",
      "source": [
        "# List of model dataframes and their identifiers\n",
        "models = {\n",
        "    'Benchmark': AR_1,\n",
        "    'XGBoost': XGBoost,\n",
        "    'RandomForest': RandomForest,\n",
        "    'AR_optimal': AR_optimal,\n",
        "    'ARIMA': ARIMA,\n",
        "    'Combination': Combination_AR_1\n",
        "}"
      ],
      "metadata": {
        "id": "VMpzHVRhQjWy"
      },
      "execution_count": null,
      "outputs": []
    },
    {
      "cell_type": "code",
      "source": [
        "mse_by_state = {}\n",
        "\n",
        "states = actuals['state'].unique()\n",
        "horizons = ['h1', 'h3', 'h6', 'h12']\n",
        "\n",
        "for state in states:\n",
        "    state_mse = {}\n",
        "    for model_name, df_model in models.items():\n",
        "        mse_per_horizon = {}\n",
        "        for horizon in horizons:\n",
        "            true_values = actuals[actuals['state'] == state][horizon]\n",
        "            predictions = df_model[df_model['state'] == state][horizon]\n",
        "\n",
        "            # Calculating MSE\n",
        "            mse_per_horizon[horizon] = mean_squared_error(true_values, predictions)\n",
        "\n",
        "        # Appending to df's\n",
        "        state_mse[model_name] = mse_per_horizon\n",
        "    mse_by_state[state] = state_mse"
      ],
      "metadata": {
        "id": "2ms8d2x7Xr6c"
      },
      "execution_count": null,
      "outputs": []
    },
    {
      "cell_type": "code",
      "source": [
        "# Creating Ratios compared to benchmark\n",
        "mse_ratios_by_state = {}\n",
        "\n",
        "for state, mse_data in mse_by_state.items():\n",
        "    state_ratios = {}\n",
        "    benchmark_mse = mse_data['Benchmark']\n",
        "    for model, mses in mse_data.items():\n",
        "        ratios = {horizon: mse / benchmark_mse[horizon] if benchmark_mse[horizon] != 0 else None for horizon, mse in mses.items()}\n",
        "        state_ratios[model] = ratios\n",
        "    mse_ratios_by_state[state] = state_ratios"
      ],
      "metadata": {
        "id": "dcrpHc_K8CrL"
      },
      "execution_count": null,
      "outputs": []
    },
    {
      "cell_type": "code",
      "source": [
        "# Appending data to df's skipping the benchmark\n",
        "data = []\n",
        "for state, models in mse_ratios_by_state.items():\n",
        "    for model, ratios in models.items():\n",
        "        if model != 'Benchmark':\n",
        "            for horizon, ratio in ratios.items():\n",
        "                data.append((state, model, horizon, ratio))\n",
        "\n",
        "df_ratios = pd.DataFrame(data, columns=['State', 'Model', 'Horizon', 'MSE Ratio']).sort_values(by=['State', 'Horizon'])\n",
        "df_ratios.reset_index(drop=True)"
      ],
      "metadata": {
        "id": "QylyeScQ9ifl"
      },
      "execution_count": null,
      "outputs": []
    },
    {
      "cell_type": "code",
      "source": [
        "df_ratios.to_csv(\"/content/drive/MyDrive/Thesis/Performance Calculations/MSERatiosAllHorizonsAR(1)Benchmark.csv\")\n",
        "df_ratios.to_excel(\"/content/drive/MyDrive/Thesis/Performance Calculations/MSERatiosAllHorizonsAR(1)Benchmark.xlsx\")"
      ],
      "metadata": {
        "id": "xUStxK1h_DFP"
      },
      "execution_count": null,
      "outputs": []
    },
    {
      "cell_type": "markdown",
      "source": [
        "## MAE Ratios"
      ],
      "metadata": {
        "id": "GNJczf03X_LR"
      }
    },
    {
      "cell_type": "code",
      "source": [
        "# List of model dataframes and their identifiers\n",
        "models = {\n",
        "    'Benchmark': AR_1,\n",
        "    'XGBoost': XGBoost,\n",
        "    'RandomForest': RandomForest,\n",
        "    'AR_optimal': AR_optimal,\n",
        "    'ARIMA': ARIMA,\n",
        "    'Combination': Combination_AR_1\n",
        "}"
      ],
      "metadata": {
        "id": "HM95eciuZD6p"
      },
      "execution_count": null,
      "outputs": []
    },
    {
      "cell_type": "code",
      "source": [
        "mae_by_state = {}\n",
        "states = actuals['state'].unique()\n",
        "horizons = ['h1', 'h3', 'h6', 'h12']\n",
        "\n",
        "for state in states:\n",
        "    state_mae = {}\n",
        "    for model_name, df_model in models.items():\n",
        "        mae_per_horizon = {}\n",
        "        for horizon in horizons:\n",
        "            true_values = actuals[actuals['state'] == state][horizon]\n",
        "            predictions = df_model[df_model['state'] == state][horizon]\n",
        "\n",
        "            # Calculating MAE\n",
        "            mae_per_horizon[horizon] = mean_absolute_error(true_values, predictions)\n",
        "\n",
        "        state_mae[model_name] = mae_per_horizon\n",
        "    mae_by_state[state] = state_mae"
      ],
      "metadata": {
        "id": "VMCz4w_4YAMv"
      },
      "execution_count": null,
      "outputs": []
    },
    {
      "cell_type": "code",
      "source": [
        "# Creating Ratios compared to benchmark\n",
        "mae_ratios_by_state = {}\n",
        "\n",
        "for state, mae_data in mae_by_state.items():\n",
        "    state_ratios = {}\n",
        "    benchmark_mae = mae_data['Benchmark']\n",
        "    for model, maes in mae_data.items():\n",
        "        ratios = {horizon: mae / benchmark_mae[horizon] if benchmark_mae[horizon] != 0 else None for horizon, mae in maes.items()}\n",
        "        state_ratios[model] = ratios\n",
        "    mae_ratios_by_state[state] = state_ratios"
      ],
      "metadata": {
        "id": "s-0vSrH1YAoQ"
      },
      "execution_count": null,
      "outputs": []
    },
    {
      "cell_type": "code",
      "source": [
        "# Appending data to df's skipping the benchmark\n",
        "data = []\n",
        "for state, models in mae_ratios_by_state.items():\n",
        "    for model, ratios in models.items():\n",
        "        if model != 'Benchmark':\n",
        "            for horizon, ratio in ratios.items():\n",
        "                data.append((state, model, horizon, ratio))\n",
        "\n",
        "df_ratios = pd.DataFrame(data, columns=['State', 'Model', 'Horizon', 'mae Ratio']).sort_values(by=['State', 'Horizon'])\n",
        "df_ratios.reset_index(drop=True)"
      ],
      "metadata": {
        "id": "JF6sVL8eYAqU"
      },
      "execution_count": null,
      "outputs": []
    },
    {
      "cell_type": "code",
      "source": [
        "df_ratios.to_csv(\"/content/drive/MyDrive/Thesis/Performance Calculations/MAERatiosAllHorizonsAR(1)Benchmark.csv\")\n",
        "df_ratios.to_excel(\"/content/drive/MyDrive/Thesis/Performance Calculations/MAERatiosAllHorizonsAR(1)Benchmark.xlsx\")"
      ],
      "metadata": {
        "id": "6VaODsliYAst"
      },
      "execution_count": null,
      "outputs": []
    },
    {
      "cell_type": "code",
      "source": [
        "# END"
      ],
      "metadata": {
        "id": "-l3mF0q4Wtvh"
      },
      "execution_count": null,
      "outputs": []
    }
  ]
}